{
 "cells": [
  {
   "cell_type": "markdown",
   "metadata": {},
   "source": [
    "## AIR QUALIITY INDEX PROJECT"
   ]
  },
  {
   "cell_type": "markdown",
   "metadata": {},
   "source": [
    "This project covers the compelte data science life cycle\n",
    "\n",
    "Project Aim : Predicting Air Quality Index(AOI)\n"
   ]
  },
  {
   "cell_type": "code",
   "execution_count": 1,
   "metadata": {},
   "outputs": [],
   "source": [
    "# We collect the climate data from the https://en.tutiempo.net/climate/ws-431280.html\n",
    "# We collect climate data of 2013 to 2019 \n",
    "\n",
    "\n",
    "import os \n",
    "import time\n",
    "import sys\n",
    "import requests"
   ]
  },
  {
   "cell_type": "code",
   "execution_count": 2,
   "metadata": {},
   "outputs": [
    {
     "name": "stdout",
     "output_type": "stream",
     "text": [
      "Time Taken 71.67269849777222\n"
     ]
    }
   ],
   "source": [
    "# Creaing a function to retrive the html data from 'https://en.tutiempo.net/climate/0{}-{}/ws-431280.html'\n",
    "# 'https://en.tutiempo.net/climate/month-year/ws-431280.html'\n",
    "# Above link contains month and year \n",
    "# We want 2013 t0 2019 climate data  for 12 months \n",
    "# To get 2013 to 2019 data we use function\n",
    "\n",
    "\n",
    "\n",
    "def data_collection():\n",
    "    for year in range(2018,2023): # for loop for year range\n",
    "        for month in range(1,13): # for loop for month range\n",
    "            if (month<10):\n",
    "                # Condition for if month number below 10\n",
    "                url='https://en.tutiempo.net/climate/0{}-{}/ws-431490.html'.format(month,year) \n",
    "            else:\n",
    "                # Condition for 10 to 12 months\n",
    "                url='https://en.tutiempo.net/climate/{}-{}/ws-431490.html'.format(month,year)\n",
    "    \n",
    "            collected_texts=requests.get(url) # using requests we get the html data into collected_texts variable\n",
    "            collected_text_utf=collected_texts.text.encode('utf=8') # our html contains so many data types so we use utf8 encoding\n",
    "            \n",
    "            # after getting data we need to store the data in a directoy so for that we create Html_data directory with year directory\n",
    "            if not os.path.exists(\"Data_collection/Html_data/{}\".format(year)):\n",
    "                os.makedirs(\"Data_collection/Html_data/{}\".format(year))\n",
    "            \n",
    "            # To store that we need to open the directory\n",
    "            with open (\"Data_collection/Html_data/{}/{}.html\".format(year,month),'wb') as Result:\n",
    "                Result.write(collected_text_utf)\n",
    "        \n",
    "            sys.stdout.flush()\n",
    "    \n",
    "\n",
    "if __name__==\"__main__\":\n",
    "    start_time=time.time()\n",
    "    data_collection()      # function calling \n",
    "    stop_time=time.time()\n",
    "    print('Time Taken {}'.format(stop_time-start_time)) # Time taken to store the data \n",
    "    "
   ]
  }
 ],
 "metadata": {
  "kernelspec": {
   "display_name": "Python 3 (ipykernel)",
   "language": "python",
   "name": "python3"
  },
  "language_info": {
   "codemirror_mode": {
    "name": "ipython",
    "version": 3
   },
   "file_extension": ".py",
   "mimetype": "text/x-python",
   "name": "python",
   "nbconvert_exporter": "python",
   "pygments_lexer": "ipython3",
   "version": "3.11.1"
  }
 },
 "nbformat": 4,
 "nbformat_minor": 4
}
